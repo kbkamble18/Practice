{
 "cells": [
  {
   "cell_type": "code",
   "execution_count": 8,
   "id": "c22ad493-58f2-4ffe-a20c-d5da3413b22b",
   "metadata": {},
   "outputs": [
    {
     "name": "stdin",
     "output_type": "stream",
     "text": [
      "Enter number of values to display 6\n"
     ]
    },
    {
     "name": "stdout",
     "output_type": "stream",
     "text": [
      "1\n",
      "2\n",
      "3\n",
      "4\n",
      "5\n",
      "6\n"
     ]
    }
   ],
   "source": [
    "i=int(input(\"Enter number of values to display\"))\n",
    "j=0\n",
    "while j < i:\n",
    "    print(j+1)\n",
    "    j+=1"
   ]
  },
  {
   "cell_type": "code",
   "execution_count": 17,
   "id": "110936de-ef87-404e-964b-4f1f9bfde32a",
   "metadata": {},
   "outputs": [
    {
     "name": "stdin",
     "output_type": "stream",
     "text": [
      "Enter the input 4\n"
     ]
    },
    {
     "name": "stdout",
     "output_type": "stream",
     "text": [
      "1\n",
      "2\n",
      "3\n",
      "4\n"
     ]
    }
   ],
   "source": [
    "i=int(input(\"Enter the input\"))\n",
    "count = 1\n",
    "while count <= i:\n",
    "    print(count)\n",
    "    count += 1"
   ]
  },
  {
   "cell_type": "code",
   "execution_count": 28,
   "id": "8f329af9-d1d7-464b-b83f-5343e84338fb",
   "metadata": {},
   "outputs": [
    {
     "name": "stdout",
     "output_type": "stream",
     "text": [
      "24500\n"
     ]
    }
   ],
   "source": [
    "i = [4500, 5200, 3800, 6100, 4900]\n",
    "s = 0\n",
    "for j in i:\n",
    "    s = s + j   \n",
    "print(s)"
   ]
  },
  {
   "cell_type": "code",
   "execution_count": 30,
   "id": "70d23bd2-089d-46f3-bc21-f1407e79b595",
   "metadata": {},
   "outputs": [
    {
     "name": "stdout",
     "output_type": "stream",
     "text": [
      "The count of salary above 5000 is:  2\n"
     ]
    }
   ],
   "source": [
    "i = [4500, 5200, 3800, 6100, 4900]\n",
    "count = 0\n",
    "for j in i:\n",
    "    if j >= 5000:\n",
    "        count = count + 1\n",
    "print(\"The count of salary above 5000 is: \", count)"
   ]
  },
  {
   "cell_type": "code",
   "execution_count": null,
   "id": "14591eb8-7fe1-484b-a154-cb08d4eeda95",
   "metadata": {},
   "outputs": [],
   "source": []
  }
 ],
 "metadata": {
  "kernelspec": {
   "display_name": "Python 3 (ipykernel)",
   "language": "python",
   "name": "python3"
  },
  "language_info": {
   "codemirror_mode": {
    "name": "ipython",
    "version": 3
   },
   "file_extension": ".py",
   "mimetype": "text/x-python",
   "name": "python",
   "nbconvert_exporter": "python",
   "pygments_lexer": "ipython3",
   "version": "3.13.7"
  }
 },
 "nbformat": 4,
 "nbformat_minor": 5
}
