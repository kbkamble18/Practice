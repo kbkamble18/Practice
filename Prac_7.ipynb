{
 "cells": [
  {
   "cell_type": "code",
   "execution_count": 8,
   "id": "c22ad493-58f2-4ffe-a20c-d5da3413b22b",
   "metadata": {},
   "outputs": [
    {
     "name": "stdin",
     "output_type": "stream",
     "text": [
      "Enter number of values to display 6\n"
     ]
    },
    {
     "name": "stdout",
     "output_type": "stream",
     "text": [
      "1\n",
      "2\n",
      "3\n",
      "4\n",
      "5\n",
      "6\n"
     ]
    }
   ],
   "source": [
    "i=int(input(\"Enter number of values to display\"))\n",
    "j=0\n",
    "while j < i:\n",
    "    print(j+1)\n",
    "    j+=1"
   ]
  },
  {
   "cell_type": "code",
   "execution_count": 17,
   "id": "110936de-ef87-404e-964b-4f1f9bfde32a",
   "metadata": {},
   "outputs": [
    {
     "name": "stdin",
     "output_type": "stream",
     "text": [
      "Enter the input 4\n"
     ]
    },
    {
     "name": "stdout",
     "output_type": "stream",
     "text": [
      "1\n",
      "2\n",
      "3\n",
      "4\n"
     ]
    }
   ],
   "source": [
    "i=int(input(\"Enter the input\"))\n",
    "count = 1\n",
    "while count <= i:\n",
    "    print(count)\n",
    "    count += 1"
   ]
  },
  {
   "cell_type": "code",
   "execution_count": 28,
   "id": "8f329af9-d1d7-464b-b83f-5343e84338fb",
   "metadata": {},
   "outputs": [
    {
     "name": "stdout",
     "output_type": "stream",
     "text": [
      "24500\n"
     ]
    }
   ],
   "source": [
    "i = [4500, 5200, 3800, 6100, 4900]\n",
    "s = 0\n",
    "for j in i:\n",
    "    s = s + j   \n",
    "print(s)"
   ]
  },
  {
   "cell_type": "code",
   "execution_count": 39,
   "id": "70d23bd2-089d-46f3-bc21-f1407e79b595",
   "metadata": {},
   "outputs": [
    {
     "name": "stdout",
     "output_type": "stream",
     "text": [
      "The count of salary above 5000 is:  2\n"
     ]
    }
   ],
   "source": [
    "i = [4500, 5200, 3800, 6100, 4900]\n",
    "count = 0\n",
    "for j in i:\n",
    "    if j >= 5000:\n",
    "        count = count + 1\n",
    "print(\"The count of salary above 5000 is: \", count)"
   ]
  },
  {
   "cell_type": "code",
   "execution_count": 44,
   "id": "ef6c11b4-df6b-4192-bcc4-f03a21b54e96",
   "metadata": {},
   "outputs": [
    {
     "name": "stdin",
     "output_type": "stream",
     "text": [
      "Guess the number: 7\n"
     ]
    },
    {
     "name": "stdout",
     "output_type": "stream",
     "text": [
      "You win!\n"
     ]
    }
   ],
   "source": [
    "attempt = 3\n",
    "while attempt >0:\n",
    "    i = int (input(\"Guess the number:\"))\n",
    "    if i == 7:\n",
    "        print(\"You win!\")\n",
    "        break\n",
    "    else:\n",
    "        print(\"Wrong Guess, Attempt Left:\", attempt)\n",
    "    attempt - 1\n"
   ]
  },
  {
   "cell_type": "code",
   "execution_count": 10,
   "id": "68bb62ab-38f4-4ca0-9cff-acc7fbdb4551",
   "metadata": {},
   "outputs": [
    {
     "name": "stdin",
     "output_type": "stream",
     "text": [
      "Enter first float no. 3.5\n",
      "Enter second float no. 5.6\n"
     ]
    },
    {
     "name": "stdout",
     "output_type": "stream",
     "text": [
      "The sum of 2 numbers is: 9.1 The average of 2 numbers is: 4.55\n",
      "The sum of 2 numbers is: 9.1The average of 2 numbers is: 4.55\n",
      "The sum of 2 numbers is:9.1The average of 2 numbers is:4.55\n"
     ]
    }
   ],
   "source": [
    "No1 = float(input(\"Enter first float no.\"))\n",
    "No2 = float(input(\"Enter second float no.\"))\n",
    "sum = No1 + No2\n",
    "avg = (No1 + No2) / 2\n",
    "# , operator for print. Used in multiple datatypes multiple arguments\n",
    "print(\"The sum of 2 numbers is:\", sum, \"The average of 2 numbers is:\", avg)\n",
    "# + operator for print. Used only for + strings, if you want to include number they need to typecast it into string first\n",
    "print(\"The sum of 2 numbers is: \" + str(sum) + \"The average of 2 numbers is: \" + str(avg))\n",
    "# f operator for print. Used for enbedding variable names in the print string\n",
    "print(f\"The sum of 2 numbers is:{sum}The average of 2 numbers is:{avg}\")\n"
   ]
  },
  {
   "cell_type": "code",
   "execution_count": 13,
   "id": "449275b9-3147-4234-b6a1-f92b9b9f4ee4",
   "metadata": {},
   "outputs": [
    {
     "name": "stdin",
     "output_type": "stream",
     "text": [
      "Enter the side length of a square 3.4\n"
     ]
    },
    {
     "name": "stdout",
     "output_type": "stream",
     "text": [
      "The area of the square is : 11.559999999999999, and the perimeter is: 13.6\n"
     ]
    }
   ],
   "source": [
    "side = float(input(\"Enter the side length of a square\"))\n",
    "area = side * side\n",
    "perimeter = 4 * side\n",
    "print(f\"The area of the square is : {area}, and the perimeter is: {perimeter}\")"
   ]
  },
  {
   "cell_type": "code",
   "execution_count": 14,
   "id": "d4d3501f-361d-44cb-b337-9129dc338d5d",
   "metadata": {},
   "outputs": [
    {
     "name": "stdin",
     "output_type": "stream",
     "text": [
      "Enter first number 3\n",
      "Enter second float no. 4\n"
     ]
    },
    {
     "name": "stdout",
     "output_type": "stream",
     "text": [
      "False\n"
     ]
    }
   ],
   "source": [
    "num1 = int(input(\"Enter first number\"))\n",
    "num2 = float(input(\"Enter second number\"))\n",
    "print(num1 >= num2)"
   ]
  },
  {
   "cell_type": "code",
   "execution_count": 31,
   "id": "4330b908-ce92-4be0-97ea-f8a6b26332fc",
   "metadata": {},
   "outputs": [
    {
     "name": "stdin",
     "output_type": "stream",
     "text": [
      "Enter alphabet r\n"
     ]
    },
    {
     "name": "stdout",
     "output_type": "stream",
     "text": [
      "0\n"
     ]
    }
   ],
   "source": [
    "strl= [\"edible\",\"non-edible\",\"plastic\"]\n",
    "txt=input(\"Enter alphabet\")\n",
    "count = 0\n",
    "for i in strl:\n",
    "    count+= i.count(txt)\n",
    "print(count)"
   ]
  },
  {
   "cell_type": "code",
   "execution_count": 37,
   "id": "e9278c5d-55f2-43cb-996b-72d6a7e96a48",
   "metadata": {},
   "outputs": [
    {
     "name": "stdout",
     "output_type": "stream",
     "text": [
      "{'e': 4, 'd': 2, 'i': 3, 'b': 2, 'l': 3, 'n': 2, 'o': 1, '-': 1, 'p': 1, 'a': 1, 's': 1, 't': 1, 'c': 1}\n"
     ]
    }
   ],
   "source": [
    "strl= [\"edible\",\"non-edible\",\"plastic\"]\n",
    "occurance = {}\n",
    "count=0\n",
    "for word in strl:\n",
    "    for alpha in word:\n",
    "        if alpha in occurance:\n",
    "            occurance[alpha]+= 1\n",
    "        else:\n",
    "            occurance[alpha] = 1\n",
    "print(occurance)"
   ]
  },
  {
   "cell_type": "code",
   "execution_count": null,
   "id": "ff8ccbcb-9461-4d9e-9191-60507e10b465",
   "metadata": {},
   "outputs": [],
   "source": []
  }
 ],
 "metadata": {
  "kernelspec": {
   "display_name": "Python 3 (ipykernel)",
   "language": "python",
   "name": "python3"
  },
  "language_info": {
   "codemirror_mode": {
    "name": "ipython",
    "version": 3
   },
   "file_extension": ".py",
   "mimetype": "text/x-python",
   "name": "python",
   "nbconvert_exporter": "python",
   "pygments_lexer": "ipython3",
   "version": "3.13.7"
  }
 },
 "nbformat": 4,
 "nbformat_minor": 5
}
