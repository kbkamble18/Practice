{
 "cells": [
  {
   "cell_type": "code",
   "execution_count": 8,
   "id": "c22ad493-58f2-4ffe-a20c-d5da3413b22b",
   "metadata": {},
   "outputs": [
    {
     "name": "stdin",
     "output_type": "stream",
     "text": [
      "Enter number of values to display 6\n"
     ]
    },
    {
     "name": "stdout",
     "output_type": "stream",
     "text": [
      "1\n",
      "2\n",
      "3\n",
      "4\n",
      "5\n",
      "6\n"
     ]
    }
   ],
   "source": [
    "i=int(input(\"Enter number of values to display\"))\n",
    "j=0\n",
    "while j < i:\n",
    "    print(j+1)\n",
    "    j+=1"
   ]
  },
  {
   "cell_type": "code",
   "execution_count": 17,
   "id": "110936de-ef87-404e-964b-4f1f9bfde32a",
   "metadata": {},
   "outputs": [
    {
     "name": "stdin",
     "output_type": "stream",
     "text": [
      "Enter the input 4\n"
     ]
    },
    {
     "name": "stdout",
     "output_type": "stream",
     "text": [
      "1\n",
      "2\n",
      "3\n",
      "4\n"
     ]
    }
   ],
   "source": [
    "i=int(input(\"Enter the input\"))\n",
    "count = 1\n",
    "while count <= i:\n",
    "    print(count)\n",
    "    count += 1"
   ]
  },
  {
   "cell_type": "code",
   "execution_count": 28,
   "id": "8f329af9-d1d7-464b-b83f-5343e84338fb",
   "metadata": {},
   "outputs": [
    {
     "name": "stdout",
     "output_type": "stream",
     "text": [
      "24500\n"
     ]
    }
   ],
   "source": [
    "i = [4500, 5200, 3800, 6100, 4900]\n",
    "s = 0\n",
    "for j in i:\n",
    "    s = s + j   \n",
    "print(s)"
   ]
  },
  {
   "cell_type": "code",
   "execution_count": 39,
   "id": "70d23bd2-089d-46f3-bc21-f1407e79b595",
   "metadata": {},
   "outputs": [
    {
     "name": "stdout",
     "output_type": "stream",
     "text": [
      "The count of salary above 5000 is:  2\n"
     ]
    }
   ],
   "source": [
    "i = [4500, 5200, 3800, 6100, 4900]\n",
    "count = 0\n",
    "for j in i:\n",
    "    if j >= 5000:\n",
    "        count = count + 1\n",
    "print(\"The count of salary above 5000 is: \", count)"
   ]
  },
  {
   "cell_type": "code",
   "execution_count": 44,
   "id": "ef6c11b4-df6b-4192-bcc4-f03a21b54e96",
   "metadata": {},
   "outputs": [
    {
     "name": "stdin",
     "output_type": "stream",
     "text": [
      "Guess the number: 7\n"
     ]
    },
    {
     "name": "stdout",
     "output_type": "stream",
     "text": [
      "You win!\n"
     ]
    }
   ],
   "source": [
    "attempt = 3\n",
    "while attempt >0:\n",
    "    i = int (input(\"Guess the number:\"))\n",
    "    if i == 7:\n",
    "        print(\"You win!\")\n",
    "        break\n",
    "    else:\n",
    "        print(\"Wrong Guess, Attempt Left:\", attempt)\n",
    "    attempt - 1\n"
   ]
  },
  {
   "cell_type": "code",
   "execution_count": 10,
   "id": "68bb62ab-38f4-4ca0-9cff-acc7fbdb4551",
   "metadata": {},
   "outputs": [
    {
     "name": "stdin",
     "output_type": "stream",
     "text": [
      "Enter first float no. 3.5\n",
      "Enter second float no. 5.6\n"
     ]
    },
    {
     "name": "stdout",
     "output_type": "stream",
     "text": [
      "The sum of 2 numbers is: 9.1 The average of 2 numbers is: 4.55\n",
      "The sum of 2 numbers is: 9.1The average of 2 numbers is: 4.55\n",
      "The sum of 2 numbers is:9.1The average of 2 numbers is:4.55\n"
     ]
    }
   ],
   "source": [
    "No1 = float(input(\"Enter first float no.\"))\n",
    "No2 = float(input(\"Enter second float no.\"))\n",
    "sum = No1 + No2\n",
    "avg = (No1 + No2) / 2\n",
    "# , operator for print. Used in multiple datatypes multiple arguments\n",
    "print(\"The sum of 2 numbers is:\", sum, \"The average of 2 numbers is:\", avg)\n",
    "# + operator for print. Used only for + strings, if you want to include number they need to typecast it into string first\n",
    "print(\"The sum of 2 numbers is: \" + str(sum) + \"The average of 2 numbers is: \" + str(avg))\n",
    "# f operator for print. Used for enbedding variable names in the print string\n",
    "print(f\"The sum of 2 numbers is:{sum}The average of 2 numbers is:{avg}\")\n"
   ]
  },
  {
   "cell_type": "code",
   "execution_count": 13,
   "id": "449275b9-3147-4234-b6a1-f92b9b9f4ee4",
   "metadata": {},
   "outputs": [
    {
     "name": "stdin",
     "output_type": "stream",
     "text": [
      "Enter the side length of a square 3.4\n"
     ]
    },
    {
     "name": "stdout",
     "output_type": "stream",
     "text": [
      "The area of the square is : 11.559999999999999, and the perimeter is: 13.6\n"
     ]
    }
   ],
   "source": [
    "side = float(input(\"Enter the side length of a square\"))\n",
    "area = side * side\n",
    "perimeter = 4 * side\n",
    "print(f\"The area of the square is : {area}, and the perimeter is: {perimeter}\")"
   ]
  },
  {
   "cell_type": "code",
   "execution_count": 14,
   "id": "d4d3501f-361d-44cb-b337-9129dc338d5d",
   "metadata": {},
   "outputs": [
    {
     "name": "stdin",
     "output_type": "stream",
     "text": [
      "Enter first number 3\n",
      "Enter second float no. 4\n"
     ]
    },
    {
     "name": "stdout",
     "output_type": "stream",
     "text": [
      "False\n"
     ]
    }
   ],
   "source": [
    "num1 = int(input(\"Enter first number\"))\n",
    "num2 = float(input(\"Enter second number\"))\n",
    "print(num1 >= num2)"
   ]
  },
  {
   "cell_type": "code",
   "execution_count": 31,
   "id": "4330b908-ce92-4be0-97ea-f8a6b26332fc",
   "metadata": {},
   "outputs": [
    {
     "name": "stdin",
     "output_type": "stream",
     "text": [
      "Enter alphabet r\n"
     ]
    },
    {
     "name": "stdout",
     "output_type": "stream",
     "text": [
      "0\n"
     ]
    }
   ],
   "source": [
    "strl= [\"edible\",\"non-edible\",\"plastic\"]\n",
    "txt=input(\"Enter alphabet\")\n",
    "count = 0\n",
    "for i in strl:\n",
    "    count+= i.count(txt)\n",
    "print(count)"
   ]
  },
  {
   "cell_type": "code",
   "execution_count": 37,
   "id": "e9278c5d-55f2-43cb-996b-72d6a7e96a48",
   "metadata": {},
   "outputs": [
    {
     "name": "stdout",
     "output_type": "stream",
     "text": [
      "{'e': 4, 'd': 2, 'i': 3, 'b': 2, 'l': 3, 'n': 2, 'o': 1, '-': 1, 'p': 1, 'a': 1, 's': 1, 't': 1, 'c': 1}\n"
     ]
    }
   ],
   "source": [
    "strl= [\"edible\",\"non-edible\",\"plastic\"]\n",
    "occurance = {}\n",
    "count=0\n",
    "for word in strl:\n",
    "    for alpha in word:\n",
    "        if alpha in occurance:\n",
    "            occurance[alpha]+= 1\n",
    "        else:\n",
    "            occurance[alpha] = 1\n",
    "print(occurance)"
   ]
  },
  {
   "cell_type": "code",
   "execution_count": 9,
   "id": "ff8ccbcb-9461-4d9e-9191-60507e10b465",
   "metadata": {},
   "outputs": [
    {
     "name": "stdout",
     "output_type": "stream",
     "text": [
      "1\n",
      "2\n",
      "3\n",
      "4\n",
      "\n",
      "\n",
      "5\n",
      "6\n",
      "7\n",
      "8\n",
      "\n",
      "\n",
      "9\n",
      "8\n",
      "7\n",
      "6\n",
      "\n",
      "\n",
      "5\n",
      "4\n",
      "3\n",
      "2\n",
      "\n",
      "\n"
     ]
    }
   ],
   "source": [
    "arr1 = [[1,2,3,4],[5,6,7,8],[9,8,7,6],[5,4,3,2]]\n",
    "for i in arr1:\n",
    "    for j in i:\n",
    "        print (j)\n",
    "    print(\"\\n\")"
   ]
  },
  {
   "cell_type": "code",
   "execution_count": 21,
   "id": "a30b48e7-a374-44b2-b64e-f4a259e96f7f",
   "metadata": {},
   "outputs": [
    {
     "name": "stdout",
     "output_type": "stream",
     "text": [
      "1 2 3 4  \n",
      "5 6 7 8  \n",
      "9 8 7 6  \n",
      "5 4 3 2  \n"
     ]
    }
   ],
   "source": [
    "arr1 = [[1,2,3,4],[5,6,7,8],[9,8,7,6],[5,4,3,2]]\n",
    "for i in range(len(arr1)):\n",
    "    for j in range(len(arr1[i])):\n",
    "        print (arr1[i][j],end=' ')\n",
    "    print(\" \")\n"
   ]
  },
  {
   "cell_type": "code",
   "execution_count": 24,
   "id": "3a2ea414-335c-4d61-aefb-7e3f0a504a4f",
   "metadata": {},
   "outputs": [
    {
     "name": "stdout",
     "output_type": "stream",
     "text": [
      "            \n",
      "     *     \n",
      "    ***    \n",
      "   *****   \n",
      "  *******  \n",
      " ********* \n",
      "  *******  \n",
      "   *****   \n",
      "    ***    \n",
      "     *     \n"
     ]
    }
   ],
   "source": [
    "t = 5\n",
    "i=0\n",
    "while i<t:\n",
    "    print(\" \"*(t-i),\"*\"* ((i*2)-1),\" \"*(t-i))\n",
    "    i+=1\n",
    "i=0\n",
    "j=t\n",
    "while i<t:\n",
    "    print(\" \"*(i),\"*\"* ((j*2)-1),\" \"*(i))\n",
    "    i+=1\n",
    "    j-=1"
   ]
  },
  {
   "cell_type": "code",
   "execution_count": 7,
   "id": "c5a90761-754c-455c-82a6-14b769f0eb22",
   "metadata": {},
   "outputs": [
    {
     "name": "stdin",
     "output_type": "stream",
     "text": [
      "Enter number 4\n"
     ]
    },
    {
     "name": "stdout",
     "output_type": "stream",
     "text": [
      "****"
     ]
    }
   ],
   "source": [
    "num = int(input(\"Enter number\"))\n",
    "#print(\"*\"* num)\n",
    "i =0\n",
    "while i < num:\n",
    "    print(\"*\", end=\"\")\n",
    "    i+= 1"
   ]
  },
  {
   "cell_type": "code",
   "execution_count": 48,
   "id": "9f216ed7-ed7a-4ab8-aabb-40768568ea61",
   "metadata": {},
   "outputs": [
    {
     "name": "stdin",
     "output_type": "stream",
     "text": [
      "Enter number 3\n"
     ]
    },
    {
     "name": "stdout",
     "output_type": "stream",
     "text": [
      "   *\n",
      "  ***\n",
      " *****\n"
     ]
    }
   ],
   "source": [
    "num = int(input(\"Enter number\"))\n",
    "j=num\n",
    "for i in range(num):\n",
    "    spaces = \" \" * (j -i -1)\n",
    "    starts = \"*\" * ((2*i)+1)\n",
    "    print(spaces,starts)"
   ]
  },
  {
   "cell_type": "code",
   "execution_count": 59,
   "id": "0321d2ad-9e8b-4b7a-91db-6e8db01afda4",
   "metadata": {},
   "outputs": [
    {
     "name": "stdin",
     "output_type": "stream",
     "text": [
      "enter age 18\n"
     ]
    },
    {
     "data": {
      "text/plain": [
       "True"
      ]
     },
     "execution_count": 59,
     "metadata": {},
     "output_type": "execute_result"
    }
   ],
   "source": [
    "age=int(input(\"enter age\"))\n",
    "def is_eligible(age):\n",
    "    if (age>=18) & (age<=60):\n",
    "        return (True)\n",
    "    else:\n",
    "        return(False)\n",
    "is_eligible(age)"
   ]
  },
  {
   "cell_type": "code",
   "execution_count": 75,
   "id": "4735be0e-2784-4fa5-9ace-ed4e961278d4",
   "metadata": {},
   "outputs": [
    {
     "name": "stdout",
     "output_type": "stream",
     "text": [
      "32\n",
      "40\n",
      "35\n"
     ]
    }
   ],
   "source": [
    "temps = [32, 25, 40, 28, 35]\n",
    "for i in range (len(temps)):\n",
    "    if temps[i]>30:\n",
    "        print(temps[i])"
   ]
  },
  {
   "cell_type": "code",
   "execution_count": 76,
   "id": "3dfc8a71-ebb4-42f0-b037-db35a6df6a2e",
   "metadata": {},
   "outputs": [
    {
     "name": "stdout",
     "output_type": "stream",
     "text": [
      "32\n",
      "40\n",
      "35\n"
     ]
    }
   ],
   "source": [
    "temps = [32, 25, 40, 28, 35]\n",
    "for temp in temps: # Directly uses the value in the list\n",
    "    if temp > 30:\n",
    "        print(temp)"
   ]
  },
  {
   "cell_type": "code",
   "execution_count": 79,
   "id": "ce30b26a-b83a-4d6c-977e-c42894bb7761",
   "metadata": {},
   "outputs": [
    {
     "name": "stdout",
     "output_type": "stream",
     "text": [
      "[10, 5, 20, 5, 30, 5]\n"
     ]
    }
   ],
   "source": [
    "data = [10, 5, 20, 5, 30, 5]\n",
    "# data.remove(5)\n",
    "for i in range(len(data)):\n",
    "    if data[i]==5:\n",
    "        del data[i]\n",
    "        break\n",
    "    print(data)"
   ]
  },
  {
   "cell_type": "code",
   "execution_count": 90,
   "id": "1e748475-4009-4412-99b0-a81528702201",
   "metadata": {},
   "outputs": [
    {
     "name": "stdout",
     "output_type": "stream",
     "text": [
      "4\n",
      "16\n",
      "36\n"
     ]
    }
   ],
   "source": [
    "nums = [1, 2, 3, 4, 5, 6]\n",
    "for i in nums:\n",
    "    if i%2 ==0:\n",
    "        print(i*i)"
   ]
  },
  {
   "cell_type": "code",
   "execution_count": 91,
   "id": "34e4cb06-2743-46ed-a425-978323c51246",
   "metadata": {},
   "outputs": [
    {
     "name": "stdin",
     "output_type": "stream",
     "text": [
      "Enter the user name karan\n"
     ]
    },
    {
     "name": "stdout",
     "output_type": "stream",
     "text": [
      "Hello, karan! Welcome to Python.\n"
     ]
    }
   ],
   "source": [
    "name=input(\"Enter the user name\")\n",
    "def greet(user_name):\n",
    "    print(f\"Hello, {user_name}! Welcome to Python.\")\n",
    "greet(name)"
   ]
  },
  {
   "cell_type": "code",
   "execution_count": 101,
   "id": "a1ef9b73-0e8b-484a-afcf-ef854a261c54",
   "metadata": {},
   "outputs": [
    {
     "name": "stdout",
     "output_type": "stream",
     "text": [
      "3\n",
      "6\n",
      "9\n",
      "12\n",
      "15\n",
      "18\n"
     ]
    }
   ],
   "source": [
    "numbers = list(range(1, 21))\n",
    "for i in numbers:\n",
    "    if i%3==0:\n",
    "        print(i)"
   ]
  },
  {
   "cell_type": "code",
   "execution_count": 114,
   "id": "6cdccc5b-cdc9-45cb-842f-85be8357a4be",
   "metadata": {},
   "outputs": [
    {
     "name": "stdout",
     "output_type": "stream",
     "text": [
      "Python is a snake and AI is cool\n"
     ]
    }
   ],
   "source": [
    "sentence = \"Python is a snake and Python is cool\"\n",
    "occurance = 0\n",
    "temp1=sentence.replace(\"Python\",\"T1\",1)\n",
    "temp2=temp1.replace(\"Python\",\"AI\",1)\n",
    "final=temp2.replace(\"T1\", \"Python\")\n",
    "print(final)"
   ]
  },
  {
   "cell_type": "code",
   "execution_count": 121,
   "id": "cc12b33c-d17b-42fd-bd02-f78de37858a7",
   "metadata": {},
   "outputs": [
    {
     "name": "stdout",
     "output_type": "stream",
     "text": [
      "{4: 3, 5: 4, 2: 1, 1: 1, 3: 1}\n"
     ]
    }
   ],
   "source": [
    "ratings = [4, 5, 2, 4, 5, 1, 3, 5, 4, 5]\n",
    "occurance = {}\n",
    "for i in ratings:\n",
    "    if i in occurance:\n",
    "        occurance[i]+=1\n",
    "    else:\n",
    "        occurance[i]=1\n",
    "print(occurance)"
   ]
  },
  {
   "cell_type": "code",
   "execution_count": null,
   "id": "a5e7bed3-dc6d-419c-b8fb-e04696507317",
   "metadata": {},
   "outputs": [],
   "source": []
  }
 ],
 "metadata": {
  "kernelspec": {
   "display_name": "Python 3 (ipykernel)",
   "language": "python",
   "name": "python3"
  },
  "language_info": {
   "codemirror_mode": {
    "name": "ipython",
    "version": 3
   },
   "file_extension": ".py",
   "mimetype": "text/x-python",
   "name": "python",
   "nbconvert_exporter": "python",
   "pygments_lexer": "ipython3",
   "version": "3.13.7"
  }
 },
 "nbformat": 4,
 "nbformat_minor": 5
}
