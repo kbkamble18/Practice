{
 "cells": [
  {
   "cell_type": "code",
   "execution_count": 2,
   "id": "c41cb07a-8790-4a7e-a99d-2925f4e0e931",
   "metadata": {},
   "outputs": [
    {
     "name": "stdout",
     "output_type": "stream",
     "text": [
      "Collecting seaborn\n",
      "  Downloading seaborn-0.13.2-py3-none-any.whl.metadata (5.4 kB)\n",
      "Requirement already satisfied: numpy!=1.24.0,>=1.20 in c:\\users\\tsex\\appdata\\local\\programs\\python\\python313\\lib\\site-packages (from seaborn) (2.3.2)\n",
      "Requirement already satisfied: pandas>=1.2 in c:\\users\\tsex\\appdata\\local\\programs\\python\\python313\\lib\\site-packages (from seaborn) (2.3.2)\n",
      "Requirement already satisfied: matplotlib!=3.6.1,>=3.4 in c:\\users\\tsex\\appdata\\local\\programs\\python\\python313\\lib\\site-packages (from seaborn) (3.10.6)\n",
      "Requirement already satisfied: contourpy>=1.0.1 in c:\\users\\tsex\\appdata\\local\\programs\\python\\python313\\lib\\site-packages (from matplotlib!=3.6.1,>=3.4->seaborn) (1.3.3)\n",
      "Requirement already satisfied: cycler>=0.10 in c:\\users\\tsex\\appdata\\local\\programs\\python\\python313\\lib\\site-packages (from matplotlib!=3.6.1,>=3.4->seaborn) (0.12.1)\n",
      "Requirement already satisfied: fonttools>=4.22.0 in c:\\users\\tsex\\appdata\\local\\programs\\python\\python313\\lib\\site-packages (from matplotlib!=3.6.1,>=3.4->seaborn) (4.59.2)\n",
      "Requirement already satisfied: kiwisolver>=1.3.1 in c:\\users\\tsex\\appdata\\local\\programs\\python\\python313\\lib\\site-packages (from matplotlib!=3.6.1,>=3.4->seaborn) (1.4.9)\n",
      "Requirement already satisfied: packaging>=20.0 in c:\\users\\tsex\\appdata\\local\\programs\\python\\python313\\lib\\site-packages (from matplotlib!=3.6.1,>=3.4->seaborn) (25.0)\n",
      "Requirement already satisfied: pillow>=8 in c:\\users\\tsex\\appdata\\local\\programs\\python\\python313\\lib\\site-packages (from matplotlib!=3.6.1,>=3.4->seaborn) (11.3.0)\n",
      "Requirement already satisfied: pyparsing>=2.3.1 in c:\\users\\tsex\\appdata\\local\\programs\\python\\python313\\lib\\site-packages (from matplotlib!=3.6.1,>=3.4->seaborn) (3.2.3)\n",
      "Requirement already satisfied: python-dateutil>=2.7 in c:\\users\\tsex\\appdata\\local\\programs\\python\\python313\\lib\\site-packages (from matplotlib!=3.6.1,>=3.4->seaborn) (2.9.0.post0)\n",
      "Requirement already satisfied: pytz>=2020.1 in c:\\users\\tsex\\appdata\\local\\programs\\python\\python313\\lib\\site-packages (from pandas>=1.2->seaborn) (2025.2)\n",
      "Requirement already satisfied: tzdata>=2022.7 in c:\\users\\tsex\\appdata\\local\\programs\\python\\python313\\lib\\site-packages (from pandas>=1.2->seaborn) (2025.2)\n",
      "Requirement already satisfied: six>=1.5 in c:\\users\\tsex\\appdata\\local\\programs\\python\\python313\\lib\\site-packages (from python-dateutil>=2.7->matplotlib!=3.6.1,>=3.4->seaborn) (1.17.0)\n",
      "Downloading seaborn-0.13.2-py3-none-any.whl (294 kB)\n",
      "Installing collected packages: seaborn\n",
      "Successfully installed seaborn-0.13.2\n",
      "Note: you may need to restart the kernel to use updated packages.\n"
     ]
    }
   ],
   "source": [
    "pip install seaborn"
   ]
  },
  {
   "cell_type": "code",
   "execution_count": 1,
   "id": "6f4bbb75-f322-4d3a-970e-de49c054e892",
   "metadata": {},
   "outputs": [],
   "source": [
    "import pandas as pd\n",
    "import numpy as np\n",
    "import seaborn as sns\n",
    "import matplotlib.pyplot as plt"
   ]
  },
  {
   "cell_type": "code",
   "execution_count": 11,
   "id": "71c18421-2a56-4cd7-8cc2-ae6e34c0a222",
   "metadata": {},
   "outputs": [
    {
     "name": "stdout",
     "output_type": "stream",
     "text": [
      "not Negetive\n",
      "False\n"
     ]
    }
   ],
   "source": [
    "a = 10\n",
    "#res = a>5 and a<20\n",
    "#res = not(a>5 and a<20)\n",
    "if a>2 :print(\"not Negetive\")\n",
    "elif a> 20 : print(\"Positive\")\n",
    "else : print(\"Weeeee\")\n",
    "\n",
    "print(res)"
   ]
  },
  {
   "cell_type": "code",
   "execution_count": 25,
   "id": "9d9c1b01-90e5-4975-8b54-a26c7890b55e",
   "metadata": {},
   "outputs": [
    {
     "name": "stdin",
     "output_type": "stream",
     "text": [
      "First name t\n",
      "last Name s\n",
      "Age 34\n"
     ]
    },
    {
     "name": "stdout",
     "output_type": "stream",
     "text": [
      "t s and he is 36  years old He is a genius\n"
     ]
    }
   ],
   "source": [
    "n1 = input(\"First name\")\n",
    "n2 = input(\"last Name\")\n",
    "a = input(\"Age\")\n",
    "b= int(a) + 2\n",
    "g = \"He is a genius\"\n",
    "print(n1,n2,\"and he is\",b,\" years old\",g)"
   ]
  },
  {
   "cell_type": "code",
   "execution_count": 37,
   "id": "f446bbf0-b1c5-4e5e-b6d1-e55a95a71acb",
   "metadata": {},
   "outputs": [
    {
     "name": "stdin",
     "output_type": "stream",
     "text": [
      "Enter Age 2\n"
     ]
    },
    {
     "name": "stdout",
     "output_type": "stream",
     "text": [
      "You cannot  vote, You are a kid\n"
     ]
    }
   ],
   "source": [
    "age= int(input(\"Enter Age\"))\n",
    "if age>= 18:\n",
    "    print(\"You can vote\")\n",
    "elif age<=18 and age>3:\n",
    "    print(\"You are in school\")\n",
    "else: \n",
    "    print(\"You cannot  vote, You are a kid\")"
   ]
  },
  {
   "cell_type": "code",
   "execution_count": 1,
   "id": "8180a82a-b550-424e-ae24-ba0056663573",
   "metadata": {},
   "outputs": [
    {
     "name": "stdin",
     "output_type": "stream",
     "text": [
      "Enter number 1 3\n",
      "Enter number 2 4\n",
      "enter operator: +, -, /, *,% *\n"
     ]
    },
    {
     "name": "stdout",
     "output_type": "stream",
     "text": [
      "12\n"
     ]
    }
   ],
   "source": [
    "n1 = int(input(\"Enter number 1\"))\n",
    "n2 = int(input(\"Enter number 2\"))\n",
    "op= input(\"enter operator: +, -, /, *,%\")\n",
    "if op == \"+\":\n",
    "    print(n1+n2)\n",
    "elif op== \"-\":\n",
    "    print(n1-n2)\n",
    "elif op==\"/\":\n",
    "    print(n1/n2)\n",
    "elif op==\"%\":\n",
    "    print(n1%n2)\n",
    "elif op==\"*\":\n",
    "    print(n1*n2)\n",
    "else:\n",
    "    print(\"Enter valid operator\")"
   ]
  },
  {
   "cell_type": "code",
   "execution_count": 45,
   "id": "38d04dd6-623a-430e-8b9f-99ada0ceffa2",
   "metadata": {},
   "outputs": [
    {
     "name": "stdout",
     "output_type": "stream",
     "text": [
      "*\n",
      "**\n",
      "***\n",
      "****\n",
      "*****\n",
      "******\n",
      "*******\n",
      "********\n",
      "*********\n",
      "**********\n"
     ]
    }
   ],
   "source": [
    "i = 1\n",
    "while i<=10:\n",
    "    print(i*\"*\")\n",
    "    i=i+1"
   ]
  },
  {
   "cell_type": "code",
   "execution_count": 64,
   "id": "d8d50d44-acc3-437d-b9c8-f22485a14911",
   "metadata": {},
   "outputs": [
    {
     "name": "stdout",
     "output_type": "stream",
     "text": [
      "11111\n",
      "\n",
      "22222\n",
      "\n",
      "33333\n",
      "\n",
      "44444\n",
      "\n",
      "55555\n",
      "\n"
     ]
    }
   ],
   "source": [
    "#for loop\n",
    "for i in range(5):\n",
    "    for j in range(5):\n",
    "        print( i + 1, end=\"\")\n",
    "    print(\"\\n\")"
   ]
  },
  {
   "cell_type": "code",
   "execution_count": 114,
   "id": "36977f09-fd6e-4800-8241-373d05c92732",
   "metadata": {},
   "outputs": [
    {
     "name": "stdout",
     "output_type": "stream",
     "text": [
      "*\n",
      "**\n",
      "***\n",
      "****\n",
      "*****\n"
     ]
    }
   ],
   "source": [
    "r=5\n",
    "j=5\n",
    "for i in range(1,r+1):\n",
    "#    for j in range(5):\n",
    "        print(i*\"*\")\n",
    "  #      j-= 1"
   ]
  },
  {
   "cell_type": "code",
   "execution_count": 116,
   "id": "45e16582-766a-40bb-8955-23f3b246d6d8",
   "metadata": {},
   "outputs": [
    {
     "name": "stdout",
     "output_type": "stream",
     "text": [
      "    *\n",
      "   ***\n",
      "  *****\n",
      " *******\n",
      "*********\n",
      " *******\n",
      "  *****\n",
      "   ***\n",
      "    *\n"
     ]
    }
   ],
   "source": [
    "row =5\n",
    "for i in range(1,row+1):\n",
    "    print(\" \"*(row-i) + \"*\"*(2*i-1))\n",
    "for i in range(row-1, 0, -1):\n",
    "    print(\" \"*(row - i) + (2*i-1)* \"*\")\n"
   ]
  },
  {
   "cell_type": "code",
   "execution_count": 5,
   "id": "868b2ab2-495f-4c8e-a9b2-00213da58add",
   "metadata": {},
   "outputs": [
    {
     "name": "stdout",
     "output_type": "stream",
     "text": [
      "Adding new student in Database..\n",
      "Karan 95\n",
      "Adding new student in Database..\n",
      "arjun 88\n",
      "ABC College\n"
     ]
    }
   ],
   "source": [
    "class Student:\n",
    "    college_name = \"ABC College\"\n",
    "\n",
    "    def __init__(self,name, marks):\n",
    "        self.name = name\n",
    "        self.marks = marks\n",
    "        print(\"Adding new student in Database..\")\n",
    "\n",
    "S1 = Student(\"Karan\",95)\n",
    "print(S1.name,S1.marks)\n",
    "\n",
    "S2 =Student(\"arjun\", 88)\n",
    "print(S2.name,S2.marks)\n",
    "\n",
    "print(S2.college_name)"
   ]
  },
  {
   "cell_type": "code",
   "execution_count": 5,
   "id": "900d25e0-ba70-48aa-8d08-22baf8f64845",
   "metadata": {},
   "outputs": [
    {
     "name": "stdout",
     "output_type": "stream",
     "text": [
      "Hi tony Stark Your avg score is: 98.0\n"
     ]
    }
   ],
   "source": [
    "#list\n",
    "class Student:\n",
    "    def __init__(self, name, marks):\n",
    "        self.name=name\n",
    "        self.marks=marks\n",
    "    def get_avg(self):\n",
    "        sum = 0\n",
    "        for val in self.marks:\n",
    "            sum += val\n",
    "        print(\"Hi\",self.name, \"Your avg score is:\", sum/3)\n",
    "s1=Student(\"tony Stark\",[99,98,97])\n",
    "s1.get_avg()\n",
    " \n",
    "#tuple\n",
    "\n"
   ]
  },
  {
   "cell_type": "code",
   "execution_count": null,
   "id": "a47df323-8acf-4b6c-9063-1bc39b3125cc",
   "metadata": {},
   "outputs": [],
   "source": []
  }
 ],
 "metadata": {
  "kernelspec": {
   "display_name": "Python 3 (ipykernel)",
   "language": "python",
   "name": "python3"
  },
  "language_info": {
   "codemirror_mode": {
    "name": "ipython",
    "version": 3
   },
   "file_extension": ".py",
   "mimetype": "text/x-python",
   "name": "python",
   "nbconvert_exporter": "python",
   "pygments_lexer": "ipython3",
   "version": "3.13.7"
  }
 },
 "nbformat": 4,
 "nbformat_minor": 5
}
