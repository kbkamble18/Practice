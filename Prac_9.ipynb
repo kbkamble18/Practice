{
 "cells": [
  {
   "cell_type": "code",
   "execution_count": 4,
   "id": "693be9c2-8c6f-423a-b509-6b1ec7306bf1",
   "metadata": {},
   "outputs": [
    {
     "name": "stdout",
     "output_type": "stream",
     "text": [
      "Cannot drive\n"
     ]
    }
   ],
   "source": [
    "age = 34\n",
    "if age>=18:\n",
    "    if age<=80:\n",
    "        print(\"Cannot drive\")\n",
    "    else:\n",
    "       print(\"Can drive\")\n",
    "else:\n",
    "    print(\"Cannot drive\")"
   ]
  },
  {
   "cell_type": "code",
   "execution_count": 6,
   "id": "b6547ff0-a114-4c0b-9036-369214bdfd8d",
   "metadata": {},
   "outputs": [
    {
     "name": "stdin",
     "output_type": "stream",
     "text": [
      "Enter the number 3\n"
     ]
    },
    {
     "name": "stdout",
     "output_type": "stream",
     "text": [
      "Numnber is Odd\n"
     ]
    }
   ],
   "source": [
    "i=int(input(\"Enter the number\"))\n",
    "if i%2==0:\n",
    "    print(\"Number is Even\")\n",
    "else:\n",
    "    print(\"Number is Odd\")"
   ]
  },
  {
   "cell_type": "code",
   "execution_count": 18,
   "id": "fc0fac8c-5227-4505-9e6a-6d73898c545f",
   "metadata": {},
   "outputs": [
    {
     "name": "stdin",
     "output_type": "stream",
     "text": [
      "Enter Number 1 3\n",
      "Enter Number 2 4\n",
      "Enter Number 3 5\n"
     ]
    },
    {
     "name": "stdout",
     "output_type": "stream",
     "text": [
      "5 is greater value\n"
     ]
    }
   ],
   "source": [
    "a=int(input(\"Enter Number 1\"))\n",
    "b=int(input(\"Enter Number 2\"))\n",
    "c=int(input(\"Enter Number 3\"))\n",
    "\n",
    "if a>=b and a>=c:\n",
    "    m = a\n",
    "elif b>=a and b>=c:\n",
    "    m = b\n",
    "else:\n",
    "    m = c\n",
    "print(m,\"is greater value\")"
   ]
  },
  {
   "cell_type": "code",
   "execution_count": 20,
   "id": "687a1cfb-52b5-4b76-bcd8-4de93f2b3434",
   "metadata": {},
   "outputs": [
    {
     "name": "stdin",
     "output_type": "stream",
     "text": [
      "Enter a number 7\n"
     ]
    },
    {
     "name": "stdout",
     "output_type": "stream",
     "text": [
      "7 is divisible by 7\n"
     ]
    }
   ],
   "source": [
    "num = int(input(\"Enter a number\"))\n",
    "if num % 7 ==0:\n",
    "    print(f\"{num} is divisible by 7\")\n",
    "else:\n",
    "    print(f\"{num} is not divisible by 7\")"
   ]
  },
  {
   "cell_type": "code",
   "execution_count": null,
   "id": "0b31d628-e729-48fe-9e06-f2f5ec83db9b",
   "metadata": {},
   "outputs": [],
   "source": []
  },
  {
   "cell_type": "code",
   "execution_count": null,
   "id": "f6b977df-c0a5-49ee-b3e2-a3222d538985",
   "metadata": {},
   "outputs": [],
   "source": []
  }
 ],
 "metadata": {
  "kernelspec": {
   "display_name": "Python 3 (ipykernel)",
   "language": "python",
   "name": "python3"
  },
  "language_info": {
   "codemirror_mode": {
    "name": "ipython",
    "version": 3
   },
   "file_extension": ".py",
   "mimetype": "text/x-python",
   "name": "python",
   "nbconvert_exporter": "python",
   "pygments_lexer": "ipython3",
   "version": "3.13.7"
  }
 },
 "nbformat": 4,
 "nbformat_minor": 5
}
