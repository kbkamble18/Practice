{
 "cells": [
  {
   "cell_type": "code",
   "execution_count": 13,
   "id": "f0094e72-c121-4272-8bdf-1f3ed0d72df5",
   "metadata": {},
   "outputs": [
    {
     "name": "stdout",
     "output_type": "stream",
     "text": [
      "Jonh 30\n"
     ]
    }
   ],
   "source": [
    "class Employee:\n",
    "    def __init__(self,name, age):\n",
    "        self.name = name \n",
    "        self.age = age\n",
    "        print(name , age)\n",
    "    def display(self):\n",
    "        print(\"Employee Name\"+ self.name+ \"your age is\"+ self.age)\n",
    "emp1=Employee(\"Jonh\",30)\n",
    "#emp1=display(\"Jonh\",30)"
   ]
  },
  {
   "cell_type": "code",
   "execution_count": null,
   "id": "44171a76-dc3b-4c8b-adb7-7586e7272501",
   "metadata": {},
   "outputs": [],
   "source": []
  }
 ],
 "metadata": {
  "kernelspec": {
   "display_name": "Python 3 (ipykernel)",
   "language": "python",
   "name": "python3"
  },
  "language_info": {
   "codemirror_mode": {
    "name": "ipython",
    "version": 3
   },
   "file_extension": ".py",
   "mimetype": "text/x-python",
   "name": "python",
   "nbconvert_exporter": "python",
   "pygments_lexer": "ipython3",
   "version": "3.13.7"
  }
 },
 "nbformat": 4,
 "nbformat_minor": 5
}
