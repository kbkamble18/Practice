{
 "cells": [
  {
   "cell_type": "code",
   "execution_count": 8,
   "id": "a050fee8-f514-4f4c-84c5-f843ed6b62db",
   "metadata": {},
   "outputs": [
    {
     "name": "stdout",
     "output_type": "stream",
     "text": [
      "True\n"
     ]
    }
   ],
   "source": [
    "def is_palindrome(string):\n",
    "\n",
    "    return string == string[::-1]\n",
    "\n",
    "# Example usage:\n",
    "string = \"racecar\"\n",
    "is_palindrome = is_palindrome(string)\n",
    "print(is_palindrome)  # Output: True"
   ]
  },
  {
   "cell_type": "code",
   "execution_count": null,
   "id": "cce87686-929a-4f37-9c12-ad4ea740867b",
   "metadata": {},
   "outputs": [],
   "source": []
  }
 ],
 "metadata": {
  "kernelspec": {
   "display_name": "Python 3 (ipykernel)",
   "language": "python",
   "name": "python3"
  },
  "language_info": {
   "codemirror_mode": {
    "name": "ipython",
    "version": 3
   },
   "file_extension": ".py",
   "mimetype": "text/x-python",
   "name": "python",
   "nbconvert_exporter": "python",
   "pygments_lexer": "ipython3",
   "version": "3.13.7"
  }
 },
 "nbformat": 4,
 "nbformat_minor": 5
}
