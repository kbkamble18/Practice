{
 "cells": [
  {
   "cell_type": "code",
   "execution_count": 6,
   "id": "37c2dbdf-d39b-499d-bb95-07ed4250e2e8",
   "metadata": {},
   "outputs": [
    {
     "name": "stdin",
     "output_type": "stream",
     "text": [
      "Enter the arguments 3\n",
      "Enter the arguments edfw\n",
      "Enter the arguments 4\n"
     ]
    },
    {
     "ename": "NameError",
     "evalue": "name 'df' is not defined",
     "output_type": "error",
     "traceback": [
      "\u001b[31m---------------------------------------------------------------------------\u001b[39m",
      "\u001b[31mNameError\u001b[39m                                 Traceback (most recent call last)",
      "\u001b[36mCell\u001b[39m\u001b[36m \u001b[39m\u001b[32mIn[6]\u001b[39m\u001b[32m, line 8\u001b[39m\n\u001b[32m      6\u001b[39m name= \u001b[38;5;28minput\u001b[39m(\u001b[33m\"\u001b[39m\u001b[33mEnter the arguments\u001b[39m\u001b[33m\"\u001b[39m)\n\u001b[32m      7\u001b[39m age= \u001b[38;5;28mint\u001b[39m(\u001b[38;5;28minput\u001b[39m(\u001b[33m\"\u001b[39m\u001b[33mEnter the arguments\u001b[39m\u001b[33m\"\u001b[39m))\n\u001b[32m----> \u001b[39m\u001b[32m8\u001b[39m s1= \u001b[43mdf\u001b[49m.student()\n\u001b[32m      9\u001b[39m s1.student(i)\n\u001b[32m     10\u001b[39m s1.student(name, age)\n",
      "\u001b[31mNameError\u001b[39m: name 'df' is not defined"
     ]
    }
   ],
   "source": [
    "def student(self,i):\n",
    "    print(f\"First funct{i}\")\n",
    "def student(name, age):\n",
    "    print(f\"Seconf function: Name of the student :{name}, Age of the student{age}\")\n",
    "i= int(input(\"Enter the arguments\"))\n",
    "name= input(\"Enter the arguments\")\n",
    "age= int(input(\"Enter the arguments\"))\n",
    "s1= df.student()\n",
    "s1.student(i)\n",
    "s1.student(name, age)"
   ]
  },
  {
   "cell_type": "code",
   "execution_count": 13,
   "id": "b521491b-27be-4cee-9b07-31d9aca556f3",
   "metadata": {},
   "outputs": [
    {
     "name": "stdin",
     "output_type": "stream",
     "text": [
      "Enter number 3\n"
     ]
    },
    {
     "name": "stdout",
     "output_type": "stream",
     "text": [
      "123321"
     ]
    }
   ],
   "source": [
    "i = int(input(\"Enter number\"))\n",
    "j = 0\n",
    "k=i\n",
    "while j<i:\n",
    "    print(j+1, end =\"\")\n",
    "    j+=1\n",
    "while k>0:\n",
    "    print(k, end=\"\")\n",
    "    k-= 1"
   ]
  },
  {
   "cell_type": "code",
   "execution_count": null,
   "id": "64b947c2-8ff1-4f37-b199-147a54f8f35b",
   "metadata": {},
   "outputs": [],
   "source": []
  }
 ],
 "metadata": {
  "kernelspec": {
   "display_name": "Python 3 (ipykernel)",
   "language": "python",
   "name": "python3"
  },
  "language_info": {
   "codemirror_mode": {
    "name": "ipython",
    "version": 3
   },
   "file_extension": ".py",
   "mimetype": "text/x-python",
   "name": "python",
   "nbconvert_exporter": "python",
   "pygments_lexer": "ipython3",
   "version": "3.13.7"
  }
 },
 "nbformat": 4,
 "nbformat_minor": 5
}
