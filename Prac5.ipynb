{
 "cells": [
  {
   "cell_type": "code",
   "execution_count": 4,
   "id": "c5b073fa-84f5-4c04-9482-e0ede4f1fbaa",
   "metadata": {},
   "outputs": [],
   "source": [
    "import nltk"
   ]
  },
  {
   "cell_type": "code",
   "execution_count": 5,
   "id": "9d99f364-f796-49c6-a236-93baf7efb908",
   "metadata": {},
   "outputs": [],
   "source": [
    "from nltk.tokenize import sent_tokenize, word_tokenize"
   ]
  },
  {
   "cell_type": "code",
   "execution_count": 8,
   "id": "0ee247e8-b20a-4d53-872a-04f69e6d8c70",
   "metadata": {},
   "outputs": [
    {
     "name": "stdout",
     "output_type": "stream",
     "text": [
      "['Sample text for test of Mr. XYZ.', 'dont need any other help?', 'take care and see you soon']\n",
      "['Sample', 'text', 'for', 'test', 'of', 'Mr.', 'XYZ', '.', 'dont', 'need', 'any', 'other', 'help', '?', 'take', 'care', 'and', 'see', 'you', 'soon']\n"
     ]
    }
   ],
   "source": [
    "sample_sent=(\"Sample text for test of Mr. XYZ. dont need any other help? take care and see you soon\")\n",
    "print(sent_tokenize (sample_sent))\n",
    "print(word_tokenize (sample_sent))"
   ]
  },
  {
   "cell_type": "code",
   "execution_count": null,
   "id": "2d84ef85-8dd0-4524-9198-78ff6f41d8d8",
   "metadata": {},
   "outputs": [],
   "source": []
  }
 ],
 "metadata": {
  "kernelspec": {
   "display_name": "Python 3 (ipykernel)",
   "language": "python",
   "name": "python3"
  },
  "language_info": {
   "codemirror_mode": {
    "name": "ipython",
    "version": 3
   },
   "file_extension": ".py",
   "mimetype": "text/x-python",
   "name": "python",
   "nbconvert_exporter": "python",
   "pygments_lexer": "ipython3",
   "version": "3.13.7"
  }
 },
 "nbformat": 4,
 "nbformat_minor": 5
}
