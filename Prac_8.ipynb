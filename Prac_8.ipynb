{
 "cells": [
  {
   "cell_type": "code",
   "execution_count": 8,
   "id": "37c2dbdf-d39b-499d-bb95-07ed4250e2e8",
   "metadata": {},
   "outputs": [
    {
     "name": "stdin",
     "output_type": "stream",
     "text": [
      "Enter the sentence arguments asdaf\n",
      "Enter the number arguments 21\n"
     ]
    },
    {
     "name": "stdout",
     "output_type": "stream",
     "text": [
      "Second function: Name of the student : asdaf, Age of the student: 21\n"
     ]
    }
   ],
   "source": [
    "#Class and function\n",
    "class Dev:\n",
    "    def student(self,name=None, age=None):\n",
    "        if name is not None and age is not None:\n",
    "            print(f\"Second function: Name of the student : {name}, Age of the student: {age}\")\n",
    "        else:\n",
    "            print(f\"Default function: No Student details provided.\")\n",
    "\n",
    "name= input(\"Enter the sentence arguments\")\n",
    "age= int(input(\"Enter the number arguments\"))\n",
    "\n",
    "df= Dev()\n",
    "df.student(name, age)"
   ]
  },
  {
   "cell_type": "code",
   "execution_count": 13,
   "id": "b521491b-27be-4cee-9b07-31d9aca556f3",
   "metadata": {},
   "outputs": [
    {
     "name": "stdin",
     "output_type": "stream",
     "text": [
      "Enter number 3\n"
     ]
    },
    {
     "name": "stdout",
     "output_type": "stream",
     "text": [
      "123321"
     ]
    }
   ],
   "source": [
    "# Fibonacci Series\n",
    "i = int(input(\"Enter number\"))\n",
    "j = 0\n",
    "k=i\n",
    "while j<i:\n",
    "    print(j+1, end =\"\")\n",
    "    j+=1\n",
    "while k>0:\n",
    "    print(k, end=\"\")\n",
    "    k-= 1"
   ]
  },
  {
   "cell_type": "code",
   "execution_count": 2,
   "id": "64b947c2-8ff1-4f37-b199-147a54f8f35b",
   "metadata": {},
   "outputs": [
    {
     "name": "stdin",
     "output_type": "stream",
     "text": [
      "Enter arguments separated by comma:  212\n"
     ]
    },
    {
     "name": "stdout",
     "output_type": "stream",
     "text": [
      "Student Info : Single argument provided - 212\n"
     ]
    }
   ],
   "source": [
    "class Dev:\n",
    "    def student(self, *args):\n",
    "        if len(args) == 1:\n",
    "            print(f\"Student Info : Single argument provided - {args[0]}\")\n",
    "        elif len(args) == 2 and isinstance(args[0], str) and isinstance(args[1], int):\n",
    "            print(f\"Student Info : Name = {args[0]}, Age = {args[1]}\")\n",
    "        else:\n",
    "            print(\"Error: Provide either a single argument, or a name (str) and age (int)\")\n",
    "            \n",
    "df = Dev()\n",
    "user_input = input(\"Enter arguments separated by comma: \")\n",
    "args = [arg.strip() for arg in user_input.split(',')]\n",
    "\n",
    "if len(args) == 2:\n",
    "    try:\n",
    "        args[1] = int(args[1])\n",
    "    except ValueError:\n",
    "        pass\n",
    "\n",
    "df.student(*args)\n"
   ]
  },
  {
   "cell_type": "code",
   "execution_count": null,
   "id": "885ba880-24ac-45b6-9f04-d598528a6483",
   "metadata": {},
   "outputs": [],
   "source": []
  }
 ],
 "metadata": {
  "kernelspec": {
   "display_name": "Python 3 (ipykernel)",
   "language": "python",
   "name": "python3"
  },
  "language_info": {
   "codemirror_mode": {
    "name": "ipython",
    "version": 3
   },
   "file_extension": ".py",
   "mimetype": "text/x-python",
   "name": "python",
   "nbconvert_exporter": "python",
   "pygments_lexer": "ipython3",
   "version": "3.13.7"
  }
 },
 "nbformat": 4,
 "nbformat_minor": 5
}
